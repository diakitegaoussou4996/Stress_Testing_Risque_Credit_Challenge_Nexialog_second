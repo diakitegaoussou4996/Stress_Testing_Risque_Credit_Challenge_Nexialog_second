{
 "cells": [
  {
   "cell_type": "markdown",
   "id": "1bb1adc4-d982-4292-8d7b-dc2e9022185a",
   "metadata": {},
   "source": [
    "<img src=\"Bases/logoMoSEF.jpeg\" width=\"90px\" align=\"left\">\n",
    "<div align=\"right\">Enseignant : Nexialog</div>\n",
    "<div align=\"right\">Réalisé par : Seçil Coskun, ABABII Anisoara, Eunice KOFFI et DIAKITE Gaoussou</div>\n",
    "<div align=\"right\">Année : 2022/2023</div><br><br><br>\n",
    "<div align=\"center\"><span style=\"font-family:Lucida Caligraphy;font-size:32px;color:darkgreen\">Master 2 Modélisation Statistiques Economiques et Financières</span></div><br>\n",
    "<div align=\"center\"><span style=\"font-family:Lucida Caligraphy;font-size:32px;color:darkgreen\">Université Paris 1 Panthéon-Sorbonne</span></div><br>\n",
    "<div align=\"center\"><span style=\"font-family:Lucida Caligraphy;font-size:28px;color:#e60000\">Challenge Nexialog</span></div><br><br>\n",
    "<hr>\n",
    "\n",
    "<p>Le risque de crédit est un enjeu majeur pour les institutions financières, qui doivent s'assurer de la solvabilité de leurs clients afin de minimiser les pertes liées aux défauts de paiement. Dans ce contexte, la construction d'un modèle économétrique permettant de prédire le taux de défaut à partir de variables macroéconomiques constitue un enjeu crucial. Ce modèle doit être capable d'identifier les facteurs économiques qui peuvent influencer la probabilité de défaut, et de les intégrer dans une analyse quantitative qui permettra de déterminer le niveau de risque associé à chaque client. Dans le cadre de ce challenge, nous disposons de plusieurs bases de données contenant des informations sur les variables macroéconomiques, ainsi que des séries de taux de passage en défaut. En utilisant des modèles économétriques basiques et des modèles de machine learning, nous chercherons à développer des prévisions fiables du taux de défaut, en utilisant des scénarios baseline et adverse pour simuler des situations économiques différentes. Le résultat de ce projet sera présenté sous forme d'interface utilisateur, utilisant le framework Streamlit, afin de faciliter l'analyse et la présentation des résultats obtenus.</p>\n",
    "\n",
    "><div class=\"alert alert-block alert-success\">\n",
    "<b>L'objectif de ce challenge</b> est alors de Construire d’une série de taux de défaut (𝐷𝑅_𝑡) et d’un modèle économétrique reliant le taux de défaut aux variables macroéconomiques.</div>\n",
    "\n",
    "\n",
    "<br>\n",
    "\n",
    "<div align=\"center\"><span style=\"font-family:Lucida Caligraphy;font-size:32px;color:darkgreen\">Table des matières</span></div><br>"
   ]
  },
  {
   "cell_type": "markdown",
   "id": "ac70192a-3f21-4ab0-a061-f0717401e2e5",
   "metadata": {},
   "source": [
    "<div style=\"border-bottom:solid #e60000\">\n",
    "<h1>01. Analyse Exploratoire & Preprocessing</h1>\n",
    "</div>"
   ]
  },
  {
   "cell_type": "markdown",
   "id": "421e6adf-c65a-454c-85d9-1950aade3b19",
   "metadata": {},
   "source": [
    "<div style=\"margin-left:30px\">\n",
    "    <p>\n",
    "        \n",
    " Nous allons présenter notre projet et son objectif global, ainsi que les différentes bases de données et variables qui sont en jeu. Pour mieux comprendre ces données, nous allons effectuer des analyses graphiques et visuelles afin de les visualiser plus clairement. Nous allons également procéder à des traitements nécessaires des variables avant d'appliquer les modèles pour les rendre plus\n",
    "        \n",
    "Pour rendre cette phase plus accessible, nous avons créé un lien vers un notebook interactif où vous pourrez visualiser les différentes analyses réalisées et les traitements effectués sur les données\n",
    "    <ul>\n",
    "        <li><a href=\"01_Analyse Exploratoire & Preprocessing.ipynb\">Visualisez-la ici</a></li>\n",
    "    </ul>\n",
    "    <p/>\n",
    "</div>"
   ]
  },
  {
   "cell_type": "markdown",
   "id": "d67e656c-aa49-497e-8363-6b9913b6f356",
   "metadata": {},
   "source": [
    "<div style=\"border-bottom:solid #e60000\">\n",
    "<h1>02. Modèle BMA.ipynb</h1>\n",
    "</div>"
   ]
  },
  {
   "cell_type": "markdown",
   "id": "8ef8d2f6-ba2c-4f7b-9b7d-3cc4b4a1195d",
   "metadata": {},
   "source": [
    "<div style=\"margin-left:30px\">\n",
    "    <p>\n",
    "Maintenant que nous avons effectué toutes les étapes de traitement nécessaires pour notre base de données, dans cette partie nous allons passer à la partie la plus importante de notre projet : la modélisation de la prédiction du taux de défaut en fonction des variables macro-économiques. Pour ce faire, nous allons examiner toutes les combinaisons possibles de modèles afin de sélectionner ceux qui ont des coefficients significatifs. Ensuite, nous allons vérifier si tous les hypothèses requises pour l'application de ces modèles sont vérifiées et choisir ceux qui les vérifient.\n",
    "\n",
    "Après avoir sélectionné notre modèle, nous allons l'appliquer à la base de données des scénarios baselines et adverses afin de prédire le taux de défaut. Cette partie est cruciale car elle nous permettra de prendre des décisions éclairées en fonction des différents scénarios macro-économiques envisageables.\n",
    "        \n",
    "Nous avons créé un lien vers un notebook interactif où vous pourrez visualiser les différentes analyses et modèles que nous avons testés\n",
    "    <ul>\n",
    "        <li><a href=\"02_Model_BMA.ipynb\">Visualisez-la ici</a></li>\n",
    "    </ul>\n",
    "    <p/>\n",
    "</div>"
   ]
  },
  {
   "cell_type": "markdown",
   "id": "14ee8408-9433-494b-b8d3-78ed4194d9ee",
   "metadata": {},
   "source": [
    "<div style=\"border-bottom:solid #e60000\">\n",
    "<h1>3. Visualisation</h1>\n",
    "</div>"
   ]
  },
  {
   "cell_type": "markdown",
   "id": "a33f22b9-7a24-4cd1-b0f9-39441fbd09e2",
   "metadata": {},
   "source": [
    "<div style=\"margin-left:30px\">\n",
    "    <p>\n",
    "Une analyse exploratoire est menée pour comprendre les caractéistiques de notre base de données.\n",
    "    <ul>\n",
    "        <li><a href=\"3. Visualisation.ipynb\">Visualisez-la ici</a></li>\n",
    "    </ul>\n",
    "    <p/>\n",
    "</div>"
   ]
  },
  {
   "cell_type": "markdown",
   "id": "aff8547c-35b9-4320-9805-f9020681fa45",
   "metadata": {},
   "source": [
    "<div style=\"border-bottom:solid #e60000\">\n",
    "<h1>03_Modèle Challenger</h1>\n",
    "</div>"
   ]
  },
  {
   "cell_type": "markdown",
   "id": "5a37a3b1-4a64-40ae-b129-844436fd7607",
   "metadata": {},
   "source": [
    "<div style=\"margin-left:30px\">\n",
    "    <p>\n",
    "La dernière partie de notre projet est dédiée aux tests de différents modèles de machine learning pour prédire le taux de défaut dans les différents scénarios macro-économiques (baselines et adverses). Cette phase est essentielle pour valider la performance de notre modèle de prédiction et pour s'assurer de sa robustesse face aux différents cas de figure envisageables.\n",
    "\n",
    "Pour cela, nous avons testé plusieurs modèles de machine learning challengers et avons comparé leurs performances. Nous avons sélectionné les modèles le plus performant et l'avons appliqué aux scénarios de base et adverse afin de prédire le taux de défaut. Ces prévisions nous permettent de prendre des décisions éclairées en fonction des différents contextes économiques..\n",
    "        \n",
    "Nous avons mis à disposition un notebook interactif pour que vous puissiez visualiser les différents tests que nous avons réalisés ainsi que les résultats obtenus\n",
    "    <ul>\n",
    "        <li><a href=\"03_Modèle Challenger.ipynb\">Visualisez-la ici</a></li>\n",
    "    </ul>\n",
    "    <p/>\n",
    "</div>"
   ]
  },
  {
   "cell_type": "markdown",
   "id": "e58db3e6-233d-44f1-a93b-3106e704a0e2",
   "metadata": {},
   "source": [
    "<div style=\"border-bottom:solid #e60000\">\n",
    "<h1>Conclusion et lien de la présentation</h1>\n",
    "</div>"
   ]
  },
  {
   "cell_type": "markdown",
   "id": "ef8b2263-3c37-4918-8c08-45ed18b6c9d4",
   "metadata": {},
   "source": [
    "<div style=\"margin-left:30px;border-bottom:solid 1px\">\n",
    "    <ol>\n",
    " Accédez à la présentation du projet :\n",
    "        <li><a href=\"https://eunicekoffi-projetpython-app-wuniri.streamlit.app/\">Lien de l'application</a></li> \n",
    "    </ol>\n",
    "</div>"
   ]
  },
  {
   "cell_type": "markdown",
   "id": "58ac4645",
   "metadata": {},
   "source": [
    "En conclusion, notre modèle économétrique est un outil puissant pour prédire le taux de défaut sur différentes situations macroéconomiques. En utilisant des données de variables macroéconomiques telles que le PIB réel, le taux d'intérêt, le taux de chômage, le taux d'inflation et d'autres, notre modèle a été en mesure de fournir des prévisions fiables du taux de défaut pour les clients individuels. Le modèle est capable d'identifier les facteurs économiques clés qui influencent la probabilité de défaut, tel que la croissance économique.\n",
    "\n",
    "Le modèle que nous avons sélectionné pour notre projet, qui est basé sur une régression linéaire multiple, a démontré une grande capacité prédictive sur les données d'apprentissage et de test, avec une précision de prédiction élevée pour les scénarios macroéconomiques de base et adverse. Les résultats obtenus suggèrent que notre modèle est capable de fournir des prévisions fiables du taux de défaut et qu'il peut être utilisé avec confiance par les institutions financières pour évaluer le risque de crédit et prendre des décisions informées sur l'octroi de crédits.\n",
    "\n",
    "En outre, notre modèle est facile à utiliser et peut être facilement mis en œuvre à grande échelle, ce qui en fait un outil précieux pour les entreprises de services financiers. Nous sommes convaincus que notre modèle est capable d'améliorer considérablement la prise de décision des institutions financières en matière de risque de crédit et de contribuer à la stabilité financière globale."
   ]
  }
 ],
 "metadata": {
  "kernelspec": {
   "display_name": "Python 3 (ipykernel)",
   "language": "python",
   "name": "python3"
  },
  "language_info": {
   "codemirror_mode": {
    "name": "ipython",
    "version": 3
   },
   "file_extension": ".py",
   "mimetype": "text/x-python",
   "name": "python",
   "nbconvert_exporter": "python",
   "pygments_lexer": "ipython3",
   "version": "3.11.5"
  }
 },
 "nbformat": 4,
 "nbformat_minor": 5
}
